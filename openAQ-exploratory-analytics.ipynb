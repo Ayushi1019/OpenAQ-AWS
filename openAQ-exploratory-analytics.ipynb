{
 "cells": [
  {
   "cell_type": "code",
   "execution_count": 1,
   "id": "42a88646",
   "metadata": {},
   "outputs": [],
   "source": [
    "import os\n",
    "import boto3\n",
    "\n",
    "from pyspark import SparkContext, SparkConf\n",
    "from pyspark.sql import SparkSession\n",
    "\n",
    "import sagemaker\n",
    "from sagemaker import get_execution_role\n",
    "import sagemaker_pyspark\n",
    "import datetime\n"
   ]
  },
  {
   "cell_type": "code",
   "execution_count": 2,
   "id": "87dee956",
   "metadata": {},
   "outputs": [
    {
     "data": {
      "text/html": [
       "\n",
       "            <div>\n",
       "                <p><b>SparkSession - in-memory</b></p>\n",
       "                \n",
       "        <div>\n",
       "            <p><b>SparkContext</b></p>\n",
       "\n",
       "            <p><a href=\"http://ip-172-16-62-122.ec2.internal:4040\">Spark UI</a></p>\n",
       "\n",
       "            <dl>\n",
       "              <dt>Version</dt>\n",
       "                <dd><code>v2.4.0</code></dd>\n",
       "              <dt>Master</dt>\n",
       "                <dd><code>local[*]</code></dd>\n",
       "              <dt>AppName</dt>\n",
       "                <dd><code>pyspark-shell</code></dd>\n",
       "            </dl>\n",
       "        </div>\n",
       "        \n",
       "            </div>\n",
       "        "
      ],
      "text/plain": [
       "<pyspark.sql.session.SparkSession at 0x7fa477587b38>"
      ]
     },
     "execution_count": 2,
     "metadata": {},
     "output_type": "execute_result"
    }
   ],
   "source": [
    "jars = sagemaker_pyspark.classpath_jars()\n",
    "\n",
    "classpath = \":\".join(sagemaker_pyspark.classpath_jars())\n",
    "\n",
    "# See the SageMaker Spark Github to learn how to connect to EMR from a notebook instance\n",
    "spark = (\n",
    "    SparkSession.builder.config(\"spark.driver.extraClassPath\", classpath)\n",
    "    .master(\"local[*]\")\n",
    "    .getOrCreate()\n",
    ")\n",
    "\n",
    "spark"
   ]
  },
  {
   "cell_type": "code",
   "execution_count": 3,
   "id": "8c5d19e6",
   "metadata": {},
   "outputs": [
    {
     "name": "stdout",
     "output_type": "stream",
     "text": [
      "+---------------+--------------------+---------------+-----+--------------------+-------+--------------------+--------------------+------+---------+--------------+----------+----+-----+\n",
      "|_corrupt_record|         attribution|averagingPeriod| city|         coordinates|country|                date|            location|mobile|parameter|    sourceName|sourceType|unit|value|\n",
      "+---------------+--------------------+---------------+-----+--------------------+-------+--------------------+--------------------+------+---------+--------------+----------+----+-----+\n",
      "|           null|[[EPA AirNow DOS,...|   [hours, 1.0]|Dubai|[25.25848, 55.309...|     AE|[2022-04-15T10:00...|US Diplomatic Pos...| false|       o3|StateAir_Dubai|government| ppm|0.013|\n",
      "|           null|[[EPA AirNow DOS,...|   [hours, 1.0]|Dubai|[25.25848, 55.309...|     AE|[2022-04-15T11:00...|US Diplomatic Pos...| false|       o3|StateAir_Dubai|government| ppm|0.022|\n",
      "|           null|[[EPA AirNow DOS,...|   [hours, 1.0]|Dubai|[25.25848, 55.309...|     AE|[2022-04-15T12:00...|US Diplomatic Pos...| false|       o3|StateAir_Dubai|government| ppm|0.021|\n",
      "|           null|[[EPA AirNow DOS,...|   [hours, 1.0]|Dubai|[25.25848, 55.309...|     AE|[2022-04-15T13:00...|US Diplomatic Pos...| false|       o3|StateAir_Dubai|government| ppm|0.023|\n",
      "|           null|[[EPA AirNow DOS,...|   [hours, 1.0]|Dubai|[25.25848, 55.309...|     AE|[2022-04-15T14:00...|US Diplomatic Pos...| false|       o3|StateAir_Dubai|government| ppm|0.038|\n",
      "|           null|[[EPA AirNow DOS,...|   [hours, 1.0]|Dubai|[25.25848, 55.309...|     AE|[2022-04-15T15:00...|US Diplomatic Pos...| false|       o3|StateAir_Dubai|government| ppm| 0.03|\n",
      "|           null|[[EPA AirNow DOS,...|   [hours, 1.0]|Dubai|[25.25848, 55.309...|     AE|[2022-04-15T16:00...|US Diplomatic Pos...| false|       o3|StateAir_Dubai|government| ppm|0.059|\n",
      "|           null|[[EPA AirNow DOS,...|   [hours, 1.0]|Dubai|[25.25848, 55.309...|     AE|[2022-04-15T17:00...|US Diplomatic Pos...| false|       o3|StateAir_Dubai|government| ppm|0.066|\n",
      "|           null|[[EPA AirNow DOS,...|   [hours, 1.0]|Dubai|[25.25848, 55.309...|     AE|[2022-04-15T18:00...|US Diplomatic Pos...| false|       o3|StateAir_Dubai|government| ppm|0.064|\n",
      "|           null|[[EPA AirNow DOS,...|   [hours, 1.0]|Dubai|[25.25848, 55.309...|     AE|[2022-04-15T19:00...|US Diplomatic Pos...| false|       o3|StateAir_Dubai|government| ppm| 0.06|\n",
      "|           null|[[EPA AirNow DOS,...|   [hours, 1.0]|Dubai|[25.25848, 55.309...|     AE|[2022-04-15T20:00...|US Diplomatic Pos...| false|       o3|StateAir_Dubai|government| ppm|0.037|\n",
      "|           null|[[EPA AirNow DOS,...|   [hours, 1.0]|Dubai|[25.25848, 55.309...|     AE|[2022-04-15T21:00...|US Diplomatic Pos...| false|       o3|StateAir_Dubai|government| ppm|0.012|\n",
      "|           null|[[EPA AirNow DOS,...|   [hours, 1.0]|Dubai|[25.25848, 55.309...|     AE|[2022-04-15T22:00...|US Diplomatic Pos...| false|       o3|StateAir_Dubai|government| ppm|0.002|\n",
      "|           null|[[EPA AirNow DOS,...|   [hours, 1.0]|Dubai|[25.25848, 55.309...|     AE|[2022-04-15T23:00...|US Diplomatic Pos...| false|       o3|StateAir_Dubai|government| ppm|  0.0|\n",
      "|           null|[[EPA AirNow DOS,...|   [hours, 1.0]|Dubai|[25.25848, 55.309...|     AE|[2022-04-16T00:00...|US Diplomatic Pos...| false|       o3|StateAir_Dubai|government| ppm|  0.0|\n",
      "|           null|[[EPA AirNow DOS,...|   [hours, 1.0]|Dubai|[25.25848, 55.309...|     AE|[2022-04-16T01:00...|US Diplomatic Pos...| false|       o3|StateAir_Dubai|government| ppm|  0.0|\n",
      "|           null|[[EPA AirNow DOS,...|   [hours, 1.0]|Dubai|[25.25848, 55.309...|     AE|[2022-04-16T02:00...|US Diplomatic Pos...| false|       o3|StateAir_Dubai|government| ppm|  0.0|\n",
      "|           null|[[EPA AirNow DOS,...|   [hours, 1.0]|Dubai|[25.25848, 55.309...|     AE|[2022-04-16T03:00...|US Diplomatic Pos...| false|       o3|StateAir_Dubai|government| ppm|  0.0|\n",
      "|           null|[[EPA AirNow DOS,...|   [hours, 1.0]|Dubai|[25.25848, 55.309...|     AE|[2022-04-16T04:00...|US Diplomatic Pos...| false|       o3|StateAir_Dubai|government| ppm|0.006|\n",
      "|           null|[[EPA AirNow DOS,...|   [hours, 1.0]|Dubai|[25.25848, 55.309...|     AE|[2022-04-16T05:00...|US Diplomatic Pos...| false|       o3|StateAir_Dubai|government| ppm|0.014|\n",
      "+---------------+--------------------+---------------+-----+--------------------+-------+--------------------+--------------------+------+---------+--------------+----------+----+-----+\n",
      "only showing top 20 rows\n",
      "\n"
     ]
    }
   ],
   "source": [
    "region = boto3.Session().region_name\n",
    "endpoint_domain = \"com\"\n",
    "spark._jsc.hadoopConfiguration().set(\n",
    "    \"fs.s3a.endpoint\", \"s3.{}.amazonaws.{}\".format(region, endpoint_domain)\n",
    ")\n",
    "date = f\"{datetime.datetime.utcnow().date()}\"\n",
    "\n",
    "df = (\n",
    "    spark.read.format(\"json\")\n",
    "    .option(\"numFeatures\", \"784\")\n",
    "    .load(f\"s3a://openaq-fetches/realtime/{date}\".format(region))\n",
    ")\n",
    "\n",
    "df.show()"
   ]
  },
  {
   "cell_type": "code",
   "execution_count": 4,
   "id": "92b78d99",
   "metadata": {},
   "outputs": [
    {
     "data": {
      "text/plain": [
       "Row(_corrupt_record=None, attribution=[Row(name='EPA AirNow DOS', url='http://airnow.gov/index.cfm?action=airnow.global_summary')], averagingPeriod=Row(unit='hours', value=1.0), city='Dubai', coordinates=Row(latitude=25.25848, longitude=55.309166), country='AE', date=Row(local='2022-04-15T10:00:00+04:00', utc='2022-04-15T06:00:00.000Z'), location='US Diplomatic Post: Dubai', mobile=False, parameter='o3', sourceName='StateAir_Dubai', sourceType='government', unit='ppm', value=0.013)"
      ]
     },
     "execution_count": 4,
     "metadata": {},
     "output_type": "execute_result"
    }
   ],
   "source": [
    "df.head()"
   ]
  },
  {
   "cell_type": "code",
   "execution_count": 14,
   "id": "851885d7",
   "metadata": {},
   "outputs": [
    {
     "data": {
      "text/plain": [
       "3125589"
      ]
     },
     "execution_count": 14,
     "metadata": {},
     "output_type": "execute_result"
    }
   ],
   "source": [
    "df.count()"
   ]
  },
  {
   "cell_type": "code",
   "execution_count": 6,
   "id": "99ea9123",
   "metadata": {},
   "outputs": [
    {
     "name": "stdout",
     "output_type": "stream",
     "text": [
      "+-------+--------------------+------------------+-------+--------------------+---------+----------+----------+-------+------------------+\n",
      "|summary|     _corrupt_record|              city|country|            location|parameter|sourceName|sourceType|   unit|             value|\n",
      "+-------+--------------------+------------------+-------+--------------------+---------+----------+----------+-------+------------------+\n",
      "|  count|                   1|           3125588|3125588|             3125588|  3125588|   3125588|   3125588|3125588|           3125588|\n",
      "|   mean|                null|29.429906542056074|   null|              7004.0|     null|      null|      null|   null|36.280697162836255|\n",
      "| stddev|                null|17.964028820023188|   null|                 0.0|     null|      null|      null|   null| 963.8705733297246|\n",
      "|    min|{\"date\":{\"utc\":\"2...|               007|     AD| Gołdap, ul. Jaćw...|       bc| ARPALAZIO|government|    ppm|           -9999.0|\n",
      "|    25%|                null|               7.0|   null|              7004.0|     null|      null|      null|   null|            4.8527|\n",
      "|    50%|                null|              37.0|   null|              7004.0|     null|      null|      null|   null|              17.0|\n",
      "|    75%|                null|              47.0|   null|              7004.0|     null|      null|      null|   null|              40.0|\n",
      "|    max|{\"date\":{\"utc\":\"2...|         Өлгий хот|     ZA|           Өндөрхаан|      so2|     caaqm|government|  µg/m³|          172822.0|\n",
      "+-------+--------------------+------------------+-------+--------------------+---------+----------+----------+-------+------------------+\n",
      "\n"
     ]
    }
   ],
   "source": [
    "df.summary().show()"
   ]
  },
  {
   "cell_type": "code",
   "execution_count": 7,
   "id": "5df28e46",
   "metadata": {},
   "outputs": [
    {
     "data": {
      "text/plain": [
       "DataFrame[summary: string, _corrupt_record: string, city: string, country: string, location: string, parameter: string, sourceName: string, sourceType: string, unit: string, value: string]"
      ]
     },
     "execution_count": 7,
     "metadata": {},
     "output_type": "execute_result"
    }
   ],
   "source": [
    "df.describe()"
   ]
  },
  {
   "cell_type": "code",
   "execution_count": 8,
   "id": "f8d8720a",
   "metadata": {},
   "outputs": [
    {
     "name": "stdout",
     "output_type": "stream",
     "text": [
      "+---------+\n",
      "|parameter|\n",
      "+---------+\n",
      "|       bc|\n",
      "|      so2|\n",
      "|     null|\n",
      "|       co|\n",
      "|       o3|\n",
      "|     pm10|\n",
      "|      no2|\n",
      "|     pm25|\n",
      "+---------+\n",
      "\n"
     ]
    }
   ],
   "source": [
    "df.select('parameter').distinct().show()"
   ]
  },
  {
   "cell_type": "code",
   "execution_count": 9,
   "id": "6f8c05c1",
   "metadata": {},
   "outputs": [
    {
     "name": "stdout",
     "output_type": "stream",
     "text": [
      "+---------+------+\n",
      "|parameter| count|\n",
      "+---------+------+\n",
      "|     null|     1|\n",
      "|       bc| 12020|\n",
      "|       co|196251|\n",
      "|      so2|414756|\n",
      "|       o3|550762|\n",
      "|     pm10|569387|\n",
      "|     pm25|665468|\n",
      "|      no2|716944|\n",
      "+---------+------+\n",
      "\n"
     ]
    }
   ],
   "source": [
    "df.groupBy('parameter').count().orderBy('count').show()"
   ]
  },
  {
   "cell_type": "code",
   "execution_count": 10,
   "id": "dcb1711b",
   "metadata": {},
   "outputs": [
    {
     "name": "stdout",
     "output_type": "stream",
     "text": [
      "root\n",
      " |-- _corrupt_record: string (nullable = true)\n",
      " |-- attribution: array (nullable = true)\n",
      " |    |-- element: struct (containsNull = true)\n",
      " |    |    |-- name: string (nullable = true)\n",
      " |    |    |-- url: string (nullable = true)\n",
      " |-- averagingPeriod: struct (nullable = true)\n",
      " |    |-- unit: string (nullable = true)\n",
      " |    |-- value: double (nullable = true)\n",
      " |-- city: string (nullable = true)\n",
      " |-- coordinates: struct (nullable = true)\n",
      " |    |-- latitude: double (nullable = true)\n",
      " |    |-- longitude: double (nullable = true)\n",
      " |-- country: string (nullable = true)\n",
      " |-- date: struct (nullable = true)\n",
      " |    |-- local: string (nullable = true)\n",
      " |    |-- utc: string (nullable = true)\n",
      " |-- location: string (nullable = true)\n",
      " |-- mobile: boolean (nullable = true)\n",
      " |-- parameter: string (nullable = true)\n",
      " |-- sourceName: string (nullable = true)\n",
      " |-- sourceType: string (nullable = true)\n",
      " |-- unit: string (nullable = true)\n",
      " |-- value: double (nullable = true)\n",
      "\n"
     ]
    }
   ],
   "source": [
    "df.printSchema()"
   ]
  },
  {
   "cell_type": "code",
   "execution_count": 11,
   "id": "396e5397",
   "metadata": {},
   "outputs": [
    {
     "name": "stdout",
     "output_type": "stream",
     "text": [
      "+---------------+--------------------+---------------+-----+--------------------+-------+--------------------+--------------------+------+---------+--------------+----------+----+-----+\n",
      "|_corrupt_record|         attribution|averagingPeriod| city|         coordinates|country|                date|            location|mobile|parameter|    sourceName|sourceType|unit|value|\n",
      "+---------------+--------------------+---------------+-----+--------------------+-------+--------------------+--------------------+------+---------+--------------+----------+----+-----+\n",
      "|           null|[[EPA AirNow DOS,...|   [hours, 1.0]|Dubai|[25.25848, 55.309...|     AE|[2022-04-15T10:00...|US Diplomatic Pos...| false|       o3|StateAir_Dubai|government| ppm|0.013|\n",
      "|           null|[[EPA AirNow DOS,...|   [hours, 1.0]|Dubai|[25.25848, 55.309...|     AE|[2022-04-15T11:00...|US Diplomatic Pos...| false|       o3|StateAir_Dubai|government| ppm|0.022|\n",
      "|           null|[[EPA AirNow DOS,...|   [hours, 1.0]|Dubai|[25.25848, 55.309...|     AE|[2022-04-15T12:00...|US Diplomatic Pos...| false|       o3|StateAir_Dubai|government| ppm|0.021|\n",
      "|           null|[[EPA AirNow DOS,...|   [hours, 1.0]|Dubai|[25.25848, 55.309...|     AE|[2022-04-15T13:00...|US Diplomatic Pos...| false|       o3|StateAir_Dubai|government| ppm|0.023|\n",
      "|           null|[[EPA AirNow DOS,...|   [hours, 1.0]|Dubai|[25.25848, 55.309...|     AE|[2022-04-15T14:00...|US Diplomatic Pos...| false|       o3|StateAir_Dubai|government| ppm|0.038|\n",
      "|           null|[[EPA AirNow DOS,...|   [hours, 1.0]|Dubai|[25.25848, 55.309...|     AE|[2022-04-15T15:00...|US Diplomatic Pos...| false|       o3|StateAir_Dubai|government| ppm| 0.03|\n",
      "|           null|[[EPA AirNow DOS,...|   [hours, 1.0]|Dubai|[25.25848, 55.309...|     AE|[2022-04-15T16:00...|US Diplomatic Pos...| false|       o3|StateAir_Dubai|government| ppm|0.059|\n",
      "|           null|[[EPA AirNow DOS,...|   [hours, 1.0]|Dubai|[25.25848, 55.309...|     AE|[2022-04-15T17:00...|US Diplomatic Pos...| false|       o3|StateAir_Dubai|government| ppm|0.066|\n",
      "|           null|[[EPA AirNow DOS,...|   [hours, 1.0]|Dubai|[25.25848, 55.309...|     AE|[2022-04-15T18:00...|US Diplomatic Pos...| false|       o3|StateAir_Dubai|government| ppm|0.064|\n",
      "|           null|[[EPA AirNow DOS,...|   [hours, 1.0]|Dubai|[25.25848, 55.309...|     AE|[2022-04-15T19:00...|US Diplomatic Pos...| false|       o3|StateAir_Dubai|government| ppm| 0.06|\n",
      "|           null|[[EPA AirNow DOS,...|   [hours, 1.0]|Dubai|[25.25848, 55.309...|     AE|[2022-04-15T20:00...|US Diplomatic Pos...| false|       o3|StateAir_Dubai|government| ppm|0.037|\n",
      "|           null|[[EPA AirNow DOS,...|   [hours, 1.0]|Dubai|[25.25848, 55.309...|     AE|[2022-04-15T21:00...|US Diplomatic Pos...| false|       o3|StateAir_Dubai|government| ppm|0.012|\n",
      "|           null|[[EPA AirNow DOS,...|   [hours, 1.0]|Dubai|[25.25848, 55.309...|     AE|[2022-04-15T22:00...|US Diplomatic Pos...| false|       o3|StateAir_Dubai|government| ppm|0.002|\n",
      "|           null|[[EPA AirNow DOS,...|   [hours, 1.0]|Dubai|[25.25848, 55.309...|     AE|[2022-04-15T23:00...|US Diplomatic Pos...| false|       o3|StateAir_Dubai|government| ppm|  0.0|\n",
      "|           null|[[EPA AirNow DOS,...|   [hours, 1.0]|Dubai|[25.25848, 55.309...|     AE|[2022-04-16T00:00...|US Diplomatic Pos...| false|       o3|StateAir_Dubai|government| ppm|  0.0|\n",
      "|           null|[[EPA AirNow DOS,...|   [hours, 1.0]|Dubai|[25.25848, 55.309...|     AE|[2022-04-16T01:00...|US Diplomatic Pos...| false|       o3|StateAir_Dubai|government| ppm|  0.0|\n",
      "|           null|[[EPA AirNow DOS,...|   [hours, 1.0]|Dubai|[25.25848, 55.309...|     AE|[2022-04-16T02:00...|US Diplomatic Pos...| false|       o3|StateAir_Dubai|government| ppm|  0.0|\n",
      "|           null|[[EPA AirNow DOS,...|   [hours, 1.0]|Dubai|[25.25848, 55.309...|     AE|[2022-04-16T03:00...|US Diplomatic Pos...| false|       o3|StateAir_Dubai|government| ppm|  0.0|\n",
      "|           null|[[EPA AirNow DOS,...|   [hours, 1.0]|Dubai|[25.25848, 55.309...|     AE|[2022-04-16T04:00...|US Diplomatic Pos...| false|       o3|StateAir_Dubai|government| ppm|0.006|\n",
      "|           null|[[EPA AirNow DOS,...|   [hours, 1.0]|Dubai|[25.25848, 55.309...|     AE|[2022-04-16T05:00...|US Diplomatic Pos...| false|       o3|StateAir_Dubai|government| ppm|0.014|\n",
      "+---------------+--------------------+---------------+-----+--------------------+-------+--------------------+--------------------+------+---------+--------------+----------+----+-----+\n",
      "only showing top 20 rows\n",
      "\n"
     ]
    }
   ],
   "source": [
    "filter_df = df.fillna(\"NA\",subset =[\"parameter\"])\n",
    "filter_df.show()"
   ]
  },
  {
   "cell_type": "code",
   "execution_count": 12,
   "id": "59e27375",
   "metadata": {},
   "outputs": [
    {
     "name": "stdout",
     "output_type": "stream",
     "text": [
      "+---------+------+\n",
      "|parameter| count|\n",
      "+---------+------+\n",
      "|       NA|     1|\n",
      "|       bc| 12020|\n",
      "|       co|196251|\n",
      "|      so2|414756|\n",
      "|       o3|550762|\n",
      "|     pm10|569387|\n",
      "|     pm25|665468|\n",
      "|      no2|716944|\n",
      "+---------+------+\n",
      "\n"
     ]
    }
   ],
   "source": [
    "filter_df.groupBy('parameter').count().orderBy('count').show()"
   ]
  }
 ],
 "metadata": {
  "kernelspec": {
   "display_name": "conda_python3",
   "language": "python",
   "name": "conda_python3"
  },
  "language_info": {
   "codemirror_mode": {
    "name": "ipython",
    "version": 3
   },
   "file_extension": ".py",
   "mimetype": "text/x-python",
   "name": "python",
   "nbconvert_exporter": "python",
   "pygments_lexer": "ipython3",
   "version": "3.6.13"
  }
 },
 "nbformat": 4,
 "nbformat_minor": 5
}
